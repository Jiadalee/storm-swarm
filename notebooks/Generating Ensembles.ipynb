{
 "cells": [
  {
   "cell_type": "code",
   "execution_count": 1,
   "metadata": {},
   "outputs": [],
   "source": [
    "import StormSwarm\n",
    "import numpy as np\n",
    "import matplotlib.pyplot as plt\n",
    "import seaborn as sns\n",
    "sns.set_style(\"whitegrid\")\n",
    "%matplotlib notebook\n",
    "%config InlineBackend.print_figure_kwargs={'bbox_inches':None}\n",
    "import pandas as pd\n",
    "from multiprocessing import Pool\n",
    "import multiprocessing"
   ]
  },
  {
   "cell_type": "markdown",
   "metadata": {},
   "source": [
    "###  Let us make control a class, such that we can assign saperate policy for each agent."
   ]
  },
  {
   "cell_type": "code",
   "execution_count": 8,
   "metadata": {},
   "outputs": [],
   "source": [
    "ctrl1 = StormSwarm.controller(0.0,\n",
    "                   ctrl,\n",
    "                   0.0,\n",
    "                   np.linspace(0,1.0,10))\n",
    "ctrl2 = StormSwarm.controller(0.0,\n",
    "                   ctrl,\n",
    "                   0.0,\n",
    "                   np.linspace(0,1.0,10))\n",
    "ctrl3 = StormSwarm.controller(0.6,\n",
    "                   ctrl,\n",
    "                   0.0,\n",
    "                   np.linspace(0,1.0,10))\n",
    "ctrl4 = StormSwarm.controller(0.8,\n",
    "                   ctrl,\n",
    "                   0.0,\n",
    "                   np.linspace(0,1.0,10))\n",
    "ctrl5 = StormSwarm.controller(1.0,\n",
    "                   ctrl,\n",
    "                   0.0,\n",
    "                   np.linspace(0,1.0,10))"
   ]
  },
  {
   "cell_type": "code",
   "execution_count": 9,
   "metadata": {},
   "outputs": [],
   "source": [
    "config1 = {\"swmm_input\"      : \"../networks/parallel.inp\",\n",
    "          \"state_elements\"  : {\"state_order\" : [\"P1\", \"P2\"],\n",
    "                                        \"P1\" : \"depth\",\n",
    "                                        \"P2\" : \"depth\",\n",
    "                                 \"state_len\" : 2},\n",
    "          \"control_elements\": [\"1\"],\n",
    "          \"controller\"      : ctrl1,\n",
    "          \"reward_function\" : reward,\n",
    "          \"timesteps\"       : 1}\n",
    "config2 = {\"swmm_input\"      : \"../networks/parallel.inp\",\n",
    "          \"state_elements\"  : {\"state_order\" : [\"P1\", \"P2\"],\n",
    "                                        \"P1\" : \"depth\",\n",
    "                                        \"P2\" : \"depth\",\n",
    "                                 \"state_len\" : 2},\n",
    "          \"control_elements\": [\"1\"],\n",
    "          \"controller\"      : ctrl2,\n",
    "          \"reward_function\" : reward,\n",
    "          \"timesteps\"       : 1}\n",
    "config3 = {\"swmm_input\"      : \"../networks/parallel.inp\",\n",
    "          \"state_elements\"  : {\"state_order\" : [\"P1\", \"P2\"],\n",
    "                                        \"P1\" : \"depth\",\n",
    "                                        \"P2\" : \"depth\",\n",
    "                                 \"state_len\" : 2},\n",
    "          \"control_elements\": [\"1\"],\n",
    "          \"controller\"      : ctrl3,\n",
    "          \"reward_function\" : reward,\n",
    "          \"timesteps\"       : 1}\n",
    "config4 = {\"swmm_input\"      : \"../networks/parallel.inp\",\n",
    "          \"state_elements\"  : {\"state_order\" : [\"P1\", \"P2\"],\n",
    "                                        \"P1\" : \"depth\",\n",
    "                                        \"P2\" : \"depth\",\n",
    "                                 \"state_len\" : 2},\n",
    "          \"control_elements\": [\"1\"],\n",
    "          \"controller\"      : ctrl4,\n",
    "          \"reward_function\" : reward,\n",
    "          \"timesteps\"       : 1}\n",
    "config5 = {\"swmm_input\"      : \"../networks/parallel.inp\",\n",
    "          \"state_elements\"  : {\"state_order\" : [\"P1\", \"P2\"],\n",
    "                                        \"P1\" : \"depth\",\n",
    "                                        \"P2\" : \"depth\",\n",
    "                                 \"state_len\" : 2},\n",
    "          \"control_elements\": [\"1\"],\n",
    "          \"controller\"      : ctrl5,\n",
    "          \"reward_function\" : reward,\n",
    "          \"timesteps\"       : 1}"
   ]
  },
  {
   "cell_type": "code",
   "execution_count": 10,
   "metadata": {},
   "outputs": [],
   "source": [
    "with Pool(5) as p:\n",
    "    data_swarm = p.map(StormSwarm.worker_bee, [config1, config2, config3, config4, config5])"
   ]
  },
  {
   "cell_type": "code",
   "execution_count": 11,
   "metadata": {},
   "outputs": [
    {
     "data": {
      "image/png": "[encoded data removed]",
      "text/plain": [
       "<Figure size 432x288 with 5 Axes>"
      ]
     },
     "metadata": {
      "needs_background": "light"
     },
     "output_type": "display_data"
    }
   ],
   "source": [
    "data_plot = {}\n",
    "for job in range(0, 5):\n",
    "    data_plot[str(job+1)] = [data_swarm[job][\"state\"][t][0] for t in range(0, len(data_swarm[job][\"state\"]))]\n",
    "    \n",
    "pal = sns.cubehelix_palette(10, rot=-.25, light=.7)\n",
    "for i in range(0,5):\n",
    "    plt.subplot(5,1,i+1)\n",
    "    sns.kdeplot(data_plot[str(i+1)], color=pal[i+1], shade=True, alpha=1.0)\n",
    "    sns.kdeplot(data_plot[str(i+1)], color=\"w\")\n",
    "    plt.ylabel(\"Worker \"+str(i+1))\n",
    "    sns.despine(bottom=True, left=True)"
   ]
  },
  {
   "cell_type": "code",
   "execution_count": null,
   "metadata": {},
   "outputs": [],
   "source": []
  }
 ],
 "metadata": {
  "kernelspec": {
   "display_name": "Python 3",
   "language": "python",
   "name": "python3"
  },
  "language_info": {
   "codemirror_mode": {
    "name": "ipython",
    "version": 3
   },
   "file_extension": ".py",
   "mimetype": "text/x-python",
   "name": "python",
   "nbconvert_exporter": "python",
   "pygments_lexer": "ipython3",
   "version": "3.6.5"
  }
 },
 "nbformat": 4,
 "nbformat_minor": 2
}
